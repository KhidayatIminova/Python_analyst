{
  "nbformat": 4,
  "nbformat_minor": 0,
  "metadata": {
    "colab": {
      "provenance": [],
      "authorship_tag": "ABX9TyPvUqLqC6fvoUnPZ9fBmDV0"
    },
    "kernelspec": {
      "name": "python3",
      "display_name": "Python 3"
    },
    "language_info": {
      "name": "python"
    }
  },
  "cells": [
    {
      "cell_type": "code",
      "execution_count": 2,
      "metadata": {
        "id": "XQnL3BNaoay0"
      },
      "outputs": [],
      "source": [
        "from typing import List, Dict\n",
        "import pandas as pd\n",
        "import datetime"
      ]
    },
    {
      "cell_type": "markdown",
      "source": [
        "# **Условие 1**\n",
        "\n",
        "\n",
        "> На складе лежат разные фрукты в разном количестве. Нужно написать функцию,\n",
        "которая на вход принимает любое количество названий фруктов и их количество, а возвращает общее количество фруктов на складе"
      ],
      "metadata": {
        "id": "E8oOHL88uQrf"
      }
    },
    {
      "cell_type": "code",
      "source": [
        "def sum_fruits(fruits: Dict):\n",
        "    return sum(fruits.values())\n",
        "\n",
        "storage = {'orange': 123, 'watermellon': 12, 'mellon': 24, 'banana': 110, 'plum':235, 'mango':15}\n",
        "sum_fruits(storage)"
      ],
      "metadata": {
        "colab": {
          "base_uri": "https://localhost:8080/"
        },
        "id": "s3oQfImlvbN5",
        "outputId": "c09cbdc1-594c-4a15-d2f9-69884d7e6e6e"
      },
      "execution_count": 3,
      "outputs": [
        {
          "output_type": "execute_result",
          "data": {
            "text/plain": [
              "519"
            ]
          },
          "metadata": {},
          "execution_count": 3
        }
      ]
    }
  ]
}
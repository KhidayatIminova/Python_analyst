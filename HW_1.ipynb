{
  "nbformat": 4,
  "nbformat_minor": 0,
  "metadata": {
    "colab": {
      "provenance": [],
      "authorship_tag": "ABX9TyMblNdot2SZn77Z18llOSeI"
    },
    "kernelspec": {
      "name": "python3",
      "display_name": "Python 3"
    },
    "language_info": {
      "name": "python"
    }
  },
  "cells": [
    {
      "cell_type": "code",
      "execution_count": 12,
      "metadata": {
        "id": "XQnL3BNaoay0"
      },
      "outputs": [],
      "source": [
        "from typing import List, Dict\n",
        "import pandas as pd\n",
        "import datetime"
      ]
    },
    {
      "cell_type": "markdown",
      "source": [
        "# **Условие 2:**\n",
        "\n",
        "\n",
        "На складе лежат разные фрукты в разном количестве. Нужно написать функцию,\n",
        "которая на вход принимает любое количество названий фруктов и их количество, а возвращает общее количество фруктов на складе"
      ],
      "metadata": {
        "id": "E8oOHL88uQrf"
      }
    },
    {
      "cell_type": "code",
      "source": [
        "def sum_fruits(fruits: Dict):\n",
        "    return sum(fruits.values())\n",
        "\n",
        "storage = {'orange': 123, 'watermellon': 12, 'mellon': 24, 'banana': 110, 'plum':235, 'mango':15}\n",
        "sum_fruits(storage)"
      ],
      "metadata": {
        "colab": {
          "base_uri": "https://localhost:8080/"
        },
        "id": "s3oQfImlvbN5",
        "outputId": "2e56466c-96da-46a4-a006-c59a8b03b5a6"
      },
      "execution_count": 13,
      "outputs": [
        {
          "output_type": "execute_result",
          "data": {
            "text/plain": [
              "519"
            ]
          },
          "metadata": {},
          "execution_count": 13
        }
      ]
    },
    {
      "cell_type": "markdown",
      "source": [
        "# **Условие 3:**\n",
        "\n",
        "Дан список с затратами на рекламу. Но в данных есть ошибки, некоторые затраты имеют отрицательную величину. Удалите такие значения из списка и посчитайте суммарные затраты\n",
        "\n",
        "**[100, 125, -90, 345, 655, -1, 0, 200]**\n",
        "\n",
        "Используйте *list comprehensions*"
      ],
      "metadata": {
        "id": "VYK23AVey8Ik"
      }
    },
    {
      "cell_type": "code",
      "source": [
        "\n",
        "advertising_costs = [100, 125, -90, 345, 655, -1, 0, 200]\n",
        "print(sum(a for a in advertising_costs if a >= 0))"
      ],
      "metadata": {
        "colab": {
          "base_uri": "https://localhost:8080/"
        },
        "id": "h_zxVvQjzqnF",
        "outputId": "5ba0b94f-ca5e-4e0f-f1ba-5fc0a7680064"
      },
      "execution_count": 14,
      "outputs": [
        {
          "output_type": "stream",
          "name": "stdout",
          "text": [
            "1425\n"
          ]
        }
      ]
    },
    {
      "cell_type": "markdown",
      "source": [
        "# **Условие 4.1:**\n",
        "\n",
        "Даны два списка:"
      ],
      "metadata": {
        "id": "UQ6Z9OG01NPO"
      }
    },
    {
      "cell_type": "markdown",
      "source": [
        "Дата покупки:"
      ],
      "metadata": {
        "id": "T-pCiXRG1r3b"
      }
    },
    {
      "cell_type": "code",
      "source": [
        "date=['2021-09-14', '2021-12-15', '2021-09-08', '2021-12-05', '2021-10-09', '2021-09-30', '2021-12-22', '2021-11-29', '2021-12-24',\n",
        "      '2021-11-26', '2021-10-27', '2021-12-18', '2021-11-09', '2021-11-23', '2021-09-27', '2021-10-02', '2021-12-27', '2021-09-20',\n",
        "      '2021-12-13', '2021-11-01', '2021-11-09', '2021-12-06', '2021-12-08', '2021-10-09', '2021-10-31', '2021-09-30', '2021-11-09',\n",
        "      '2021-12-13', '2021-10-26', '2021-12-09']"
      ],
      "metadata": {
        "id": "Z7op_dGo1LlL"
      },
      "execution_count": 15,
      "outputs": []
    },
    {
      "cell_type": "markdown",
      "source": [
        "Суммы покупок по датам:"
      ],
      "metadata": {
        "id": "Xrc-iXaT2Dpt"
      }
    },
    {
      "cell_type": "code",
      "source": [
        "revenue_by_dates=[1270, 8413, 9028, 3703, 5739, 4095, 295, 4944, 5723, 3701, 4471, 651, 7037, 4274, 6275,\n",
        "                  4988, 6930, 2971, 6592, 2004, 2822, 519, 3406, 2732, 5015, 2008, 316, 6333, 5700, 2887]"
      ],
      "metadata": {
        "id": "jSP5SktG2sKJ"
      },
      "execution_count": 16,
      "outputs": []
    },
    {
      "cell_type": "markdown",
      "source": [
        "4.1 Найдите, какая выручка у компании в ***ноябре***\n",
        "\n",
        "Используйте *list comprehensions*"
      ],
      "metadata": {
        "id": "tj87fFkL3bd4"
      }
    },
    {
      "cell_type": "code",
      "source": [
        "print(sum([r for d, r in zip(date, revenue_by_dates) if d[5:7] == \"11\"]))"
      ],
      "metadata": {
        "colab": {
          "base_uri": "https://localhost:8080/"
        },
        "id": "FiqiR3j03jt7",
        "outputId": "b77badba-288d-42c1-de2e-18b991dcc71a"
      },
      "execution_count": 17,
      "outputs": [
        {
          "output_type": "stream",
          "name": "stdout",
          "text": [
            "25098\n"
          ]
        }
      ]
    },
    {
      "cell_type": "markdown",
      "source": [
        "4.2 Найдите выручку компании в зависимости от месяца\n",
        "Для этого напишите функцию, которая на вход принимает список с датами и список с выручкой, а на выходе словарь, где ключи - это месяцы, а значения - это выручка.\n",
        "Используйте *аннотирование типов*."
      ],
      "metadata": {
        "id": "CetQpYtd4m_b"
      }
    },
    {
      "cell_type": "code",
      "source": [
        "def sum_month (date: List, revenue_by_dates: List) -> Dict:\n",
        "    df = pd.DataFrame()\n",
        "    df['Date'] = [datetime.datetime.strptime(i, '%Y-%m-%d') for i in date]\n",
        "    df['Сумма по месяцам'] = revenue_by_dates\n",
        "    #df = df.groupby (df.Date.dt.month )['Sum']. sum ()\n",
        "    df['Month'] = pd.DatetimeIndex(df['Date']).month\n",
        "    df = df.groupby('Month').sum()\n",
        "    return df.to_dict('dict')\n",
        "    #df.to_dict('index')\n",
        "\n",
        "print(sum_month(date, revenue_by_dates))"
      ],
      "metadata": {
        "colab": {
          "base_uri": "https://localhost:8080/"
        },
        "id": "m6BBseFB4xns",
        "outputId": "0a9c1beb-dbb1-4c46-d9d2-01e7f9f8e7cb"
      },
      "execution_count": 18,
      "outputs": [
        {
          "output_type": "stream",
          "name": "stdout",
          "text": [
            "{'Сумма по месяцам': {9: 25647, 10: 28645, 11: 25098, 12: 45452}}\n"
          ]
        }
      ]
    }
  ]
}